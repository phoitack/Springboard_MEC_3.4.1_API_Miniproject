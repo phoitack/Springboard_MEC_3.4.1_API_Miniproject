{
 "cells": [
  {
   "cell_type": "markdown",
   "metadata": {},
   "source": [
    "This exercise will require you to pull some data from the Qunadl API. Qaundl is currently the most widely used aggregator of financial market data."
   ]
  },
  {
   "cell_type": "markdown",
   "metadata": {},
   "source": [
    "As a first step, you will need to register a free account on the http://www.quandl.com website."
   ]
  },
  {
   "cell_type": "markdown",
   "metadata": {},
   "source": [
    "After you register, you will be provided with a unique API key, that you should store:"
   ]
  },
  {
   "cell_type": "code",
   "execution_count": 1,
   "metadata": {
    "ExecuteTime": {
     "end_time": "2020-06-10T06:47:11.312688Z",
     "start_time": "2020-06-10T06:47:11.310333Z"
    }
   },
   "outputs": [],
   "source": [
    "# Store the API key as a string - according to PEP8, constants are always named in all upper case\n",
    "API_KEY = 'R-ER8svbfPCDsnuCRgW9'"
   ]
  },
  {
   "cell_type": "markdown",
   "metadata": {},
   "source": [
    "Qaundl has a large number of data sources, but, unfortunately, most of them require a Premium subscription. Still, there are also a good number of free datasets."
   ]
  },
  {
   "cell_type": "markdown",
   "metadata": {},
   "source": [
    "For this mini project, we will focus on equities data from the Frankfurt Stock Exhange (FSE), which is available for free. We'll try and analyze the stock prices of a company called Carl Zeiss Meditec, which manufactures tools for eye examinations, as well as medical lasers for laser eye surgery: https://www.zeiss.com/meditec/int/home.html. The company is listed under the stock ticker AFX_X."
   ]
  },
  {
   "cell_type": "markdown",
   "metadata": {},
   "source": [
    "You can find the detailed Quandl API instructions here: https://docs.quandl.com/docs/time-series"
   ]
  },
  {
   "cell_type": "markdown",
   "metadata": {},
   "source": [
    "While there is a dedicated Python package for connecting to the Quandl API, we would prefer that you use the *requests* package, which can be easily downloaded using *pip* or *conda*. You can find the documentation for the package here: http://docs.python-requests.org/en/master/ "
   ]
  },
  {
   "cell_type": "markdown",
   "metadata": {},
   "source": [
    "Finally, apart from the *requests* package, you are encouraged to not use any third party Python packages, such as *pandas*, and instead focus on what's available in the Python Standard Library (the *collections* module might come in handy: https://pymotw.com/3/collections/).\n",
    "Also, since you won't have access to DataFrames, you are encouraged to use Python's native data structures - preferably dictionaries, though some questions can also be answered using lists.\n",
    "You can read more on these data structures here: https://docs.python.org/3/tutorial/datastructures.html"
   ]
  },
  {
   "cell_type": "markdown",
   "metadata": {},
   "source": [
    "Keep in mind that the JSON responses you will be getting from the API map almost one-to-one to Python's dictionaries. Unfortunately, they can be very nested, so make sure you read up on indexing dictionaries in the documentation provided above."
   ]
  },
  {
   "cell_type": "code",
   "execution_count": 2,
   "metadata": {
    "ExecuteTime": {
     "end_time": "2020-06-10T06:47:12.115813Z",
     "start_time": "2020-06-10T06:47:11.364326Z"
    }
   },
   "outputs": [],
   "source": [
    "# First, import the relevant modules\n",
    "import quandl\n",
    "import json\n",
    "import numpy as np\n",
    "import urllib.request\n",
    "import requests"
   ]
  },
  {
   "cell_type": "code",
   "execution_count": 3,
   "metadata": {
    "ExecuteTime": {
     "end_time": "2020-06-10T06:47:12.119443Z",
     "start_time": "2020-06-10T06:47:12.117747Z"
    }
   },
   "outputs": [],
   "source": [
    "# Testing on the fly with !curl based on instructions from quandl.com\n",
    "#!curl \"https://www.quandl.com/api/v3/datasets/WIKI/FB/data.json?api_key=R-ER8svbfPCDsnuCRgW9\"\n",
    "#!curl \"https://www.quandl.com/api/v3/datasets/WIKI/FB.json?column_index=4&start_date=2014-01-01&end_date=2014-12-31&collapse=monthly&transform=rdiff&api_key=R-ER8svbfPCDsnuCRgW9\"\n",
    "#!curl \"https://www.quandl.com/api/v3/datasets/FSE/AFX_X.json?start_date=2020-06-09&end_date=2020-06-09&api_key=R-ER8svbfPCDsnuCRgW9\""
   ]
  },
  {
   "cell_type": "code",
   "execution_count": 4,
   "metadata": {
    "ExecuteTime": {
     "end_time": "2020-06-10T06:47:12.124469Z",
     "start_time": "2020-06-10T06:47:12.121583Z"
    }
   },
   "outputs": [],
   "source": [
    "# Now, call the Quandl API and pull out a small sample of the data (only one day) to get a glimpse\n",
    "# into the JSON structure that will be returned\n",
    "base_url = 'https://www.quandl.com/api/v3/datasets/'\n",
    "\n",
    "# Stock Exchange\n",
    "stock_exchange = 'FSE'\n",
    "\n",
    "# Which company\n",
    "ticker_symbol = 'AFX_X'\n",
    "\n",
    "# Start and end date\n",
    "start_date = '2020-06-02'\n",
    "end_date = '2020-06-02'\n",
    "\n",
    "# Format\n",
    "format_type = 'json'"
   ]
  },
  {
   "cell_type": "code",
   "execution_count": 5,
   "metadata": {
    "ExecuteTime": {
     "end_time": "2020-06-10T06:47:12.614793Z",
     "start_time": "2020-06-10T06:47:12.126344Z"
    }
   },
   "outputs": [
    {
     "name": "stdout",
     "output_type": "stream",
     "text": [
      "{'dataset': {'id': 10095370, 'dataset_code': 'AFX_X', 'database_code': 'FSE', 'name': 'Carl Zeiss Meditec (AFX_X)', 'description': 'Stock Prices for Carl Zeiss Meditec (2020-05-26) from the Frankfurt Stock Exchange.<br><br>Trading System: Xetra<br><br>ISIN: DE0005313704', 'refreshed_at': '2020-06-09T22:16:20.197Z', 'newest_available_date': '2020-06-09', 'oldest_available_date': '2000-06-07', 'column_names': ['Date', 'Open', 'High', 'Low', 'Close', 'Change', 'Traded Volume', 'Turnover', 'Last Price of the Day', 'Daily Traded Units', 'Daily Turnover'], 'frequency': 'daily', 'type': 'Time Series', 'premium': False, 'limit': None, 'transform': None, 'column_index': None, 'start_date': '2020-06-02', 'end_date': '2020-06-02', 'data': [['2020-06-02', 93.3, 93.5, 89.5, 91.0, None, 165446.0, 15036505.55, None, None, None]], 'collapse': None, 'order': None, 'database_id': 6129}}\n"
     ]
    }
   ],
   "source": [
    "url = base_url + stock_exchange + '/' + ticker_symbol + '.' + format_type + '?' + 'start_date=' \\\n",
    "    + start_date + '&' + 'end_date=' + end_date + '&' + 'api_key=' + API_KEY\n",
    "\n",
    "output_request_json = requests.get(url).json()\n",
    "\n",
    "print(output_request_json)"
   ]
  },
  {
   "cell_type": "code",
   "execution_count": 6,
   "metadata": {
    "ExecuteTime": {
     "end_time": "2020-06-10T06:47:12.619726Z",
     "start_time": "2020-06-10T06:47:12.616753Z"
    }
   },
   "outputs": [],
   "source": [
    "# https://www.quandl.com/api/v3/datasets/{database_code}/{dataset_code}/data.{return_format}\n",
    "#url_n = \n",
    "\n",
    "input_params = {'base_url'      : base_url,\n",
    "                'database_code' : stock_exchange, \n",
    "                'dataset_code'  : ticker_symbol,\n",
    "                'return_format' : format_type,\n",
    "                'start_date'    : start_date,\n",
    "                'end_date'      : end_date,\n",
    "                'api_key'       : API_KEY}\n",
    "\n",
    "#print(params['database_code'])\n",
    "\n",
    "#r1 = requests.get(base_url, params=params)\n",
    "\n",
    "#print(r1.url)\n",
    "\n",
    "#print(r1.json())"
   ]
  },
  {
   "cell_type": "code",
   "execution_count": 7,
   "metadata": {
    "ExecuteTime": {
     "end_time": "2020-06-10T06:47:12.624709Z",
     "start_time": "2020-06-10T06:47:12.621803Z"
    }
   },
   "outputs": [
    {
     "name": "stdout",
     "output_type": "stream",
     "text": [
      "{\n",
      " \"dataset\": {\n",
      "  \"id\": 10095370,\n",
      "  \"dataset_code\": \"AFX_X\",\n",
      "  \"database_code\": \"FSE\",\n",
      "  \"name\": \"Carl Zeiss Meditec (AFX_X)\",\n",
      "  \"description\": \"Stock Prices for Carl Zeiss Meditec (2020-05-26) from the Frankfurt Stock Exchange.<br><br>Trading System: Xetra<br><br>ISIN: DE0005313704\",\n",
      "  \"refreshed_at\": \"2020-06-09T22:16:20.197Z\",\n",
      "  \"newest_available_date\": \"2020-06-09\",\n",
      "  \"oldest_available_date\": \"2000-06-07\",\n",
      "  \"column_names\": [\n",
      "   \"Date\",\n",
      "   \"Open\",\n",
      "   \"High\",\n",
      "   \"Low\",\n",
      "   \"Close\",\n",
      "   \"Change\",\n",
      "   \"Traded Volume\",\n",
      "   \"Turnover\",\n",
      "   \"Last Price of the Day\",\n",
      "   \"Daily Traded Units\",\n",
      "   \"Daily Turnover\"\n",
      "  ],\n",
      "  \"frequency\": \"daily\",\n",
      "  \"type\": \"Time Series\",\n",
      "  \"premium\": false,\n",
      "  \"limit\": null,\n",
      "  \"transform\": null,\n",
      "  \"column_index\": null,\n",
      "  \"start_date\": \"2020-06-02\",\n",
      "  \"end_date\": \"2020-06-02\",\n",
      "  \"data\": [\n",
      "   [\n",
      "    \"2020-06-02\",\n",
      "    93.3,\n",
      "    93.5,\n",
      "    89.5,\n",
      "    91.0,\n",
      "    null,\n",
      "    165446.0,\n",
      "    15036505.55,\n",
      "    null,\n",
      "    null,\n",
      "    null\n",
      "   ]\n",
      "  ],\n",
      "  \"collapse\": null,\n",
      "  \"order\": null,\n",
      "  \"database_id\": 6129\n",
      " }\n",
      "}\n"
     ]
    }
   ],
   "source": [
    "# Inspect the JSON structure of the object you created, and take note of how nested it is,\n",
    "# as well as the overall structure\n",
    "output_request_json_formatted = json.dumps(output_request_json, indent=1)\n",
    "\n",
    "print(output_request_json_formatted)"
   ]
  },
  {
   "cell_type": "code",
   "execution_count": 8,
   "metadata": {
    "ExecuteTime": {
     "end_time": "2020-06-10T06:47:12.629266Z",
     "start_time": "2020-06-10T06:47:12.626554Z"
    }
   },
   "outputs": [
    {
     "name": "stdout",
     "output_type": "stream",
     "text": [
      "[['2020-06-02', 93.3, 93.5, 89.5, 91.0, None, 165446.0, 15036505.55, None, None, None]]\n",
      "1\n"
     ]
    }
   ],
   "source": [
    "# Sample data output that is needed for the exercises\n",
    "df = output_request_json['dataset']['data']\n",
    "\n",
    "print(df)\n",
    "print(len(df))"
   ]
  },
  {
   "cell_type": "markdown",
   "metadata": {},
   "source": [
    "These are your tasks for this mini project:\n",
    "\n",
    "1. Collect data from the Franfurt Stock Exchange, for the ticker AFX_X, for the whole year 2017 (keep in mind that the date format is YYYY-MM-DD).\n",
    "2. Convert the returned JSON object into a Python dictionary.\n",
    "3. Calculate what the highest and lowest opening prices were for the stock in this period.\n",
    "4. What was the largest change in any one day (based on High and Low price)?\n",
    "5. What was the largest change between any two days (based on Closing Price)?\n",
    "6. What was the average daily trading volume during this year?\n",
    "7. (Optional) What was the median trading volume during this year. (Note: you may need to implement your own function for calculating the median.)"
   ]
  },
  {
   "cell_type": "markdown",
   "metadata": {},
   "source": [
    "### Collect data from the Frankfurt Stock Exchange, for the ticker AFX_X, for the whole year 2017 (keep in mind that the date format is YYYY-MM-DD)."
   ]
  },
  {
   "cell_type": "code",
   "execution_count": 9,
   "metadata": {
    "ExecuteTime": {
     "end_time": "2020-06-10T06:47:12.636390Z",
     "start_time": "2020-06-10T06:47:12.633020Z"
    }
   },
   "outputs": [],
   "source": [
    "# Base url\n",
    "base_url = 'https://www.quandl.com/api/v3/datasets/'\n",
    "\n",
    "# Stock Exchange\n",
    "stock_exchange = 'FSE'\n",
    "\n",
    "# Which company\n",
    "ticker_symbol = 'AFX_X'\n",
    "\n",
    "# Start and end date\n",
    "start_date = '2017-01-01'\n",
    "end_date   = '2017-12-31'\n",
    "\n",
    "# Format\n",
    "format_type = 'json'\n",
    "\n",
    "# Order of output: asc = ascending or desc = descending(Default)\n",
    "order = 'asc'\n",
    "\n",
    "input_dict = {'base_url'      : base_url,\n",
    "              'database_code' : stock_exchange, \n",
    "              'dataset_code'  : ticker_symbol,\n",
    "              'return_format' : format_type,\n",
    "              'start_date'    : start_date,\n",
    "              'end_date'      : end_date,\n",
    "              'order_output'  : order,\n",
    "              'api_key'       : API_KEY}"
   ]
  },
  {
   "cell_type": "code",
   "execution_count": 10,
   "metadata": {
    "ExecuteTime": {
     "end_time": "2020-06-10T06:47:13.017430Z",
     "start_time": "2020-06-10T06:47:12.638473Z"
    }
   },
   "outputs": [],
   "source": [
    "def get_data(input_params):\n",
    "    \n",
    "    base_url       = input_params['base_url']\n",
    "    stock_exchange = input_params['database_code']\n",
    "    stock_symbol   = input_params['dataset_code']\n",
    "    format_type    = input_params['return_format']\n",
    "    start_date     = input_params['start_date']\n",
    "    end_date       = input_params['end_date']\n",
    "    order          = input_params['order_output']\n",
    "    API_KEY        = input_params['api_key']\n",
    "    \n",
    "    # Note: The default order is descending. Changed to ascending\n",
    "    url = base_url + stock_exchange + '/' + ticker_symbol + '.' + format_type + '?' + 'start_date=' \\\n",
    "    + start_date + '&' + 'end_date=' + end_date + '&' + 'order=' + order + '&' + 'api_key=' + API_KEY\n",
    "    \n",
    "    output_request = requests.get(url)\n",
    "    \n",
    "    return output_request\n",
    "\n",
    "output_request = get_data(input_dict)"
   ]
  },
  {
   "cell_type": "markdown",
   "metadata": {},
   "source": [
    "### Convert the returned JSON object into a Python dictionary."
   ]
  },
  {
   "cell_type": "code",
   "execution_count": 11,
   "metadata": {
    "ExecuteTime": {
     "end_time": "2020-06-10T06:47:13.022245Z",
     "start_time": "2020-06-10T06:47:13.019578Z"
    }
   },
   "outputs": [],
   "source": [
    "data_json = output_request.json()"
   ]
  },
  {
   "cell_type": "markdown",
   "metadata": {},
   "source": [
    "### Calculate what the highest and lowest opening prices were for the stock in this period"
   ]
  },
  {
   "cell_type": "code",
   "execution_count": 12,
   "metadata": {
    "ExecuteTime": {
     "end_time": "2020-06-10T06:47:13.026418Z",
     "start_time": "2020-06-10T06:47:13.024182Z"
    }
   },
   "outputs": [],
   "source": [
    "# Extract data from the dictionary\n",
    "dataset = data_json['dataset']['data']\n",
    "\n",
    "# Column names\n",
    "# Date, Open, High, Low, Close, Change, Traded Volume, Turnover, Last Price of the Day, Daily Traded Units, Daily Turnover"
   ]
  },
  {
   "cell_type": "code",
   "execution_count": 13,
   "metadata": {
    "ExecuteTime": {
     "end_time": "2020-06-10T06:47:13.032781Z",
     "start_time": "2020-06-10T06:47:13.028123Z"
    }
   },
   "outputs": [],
   "source": [
    "# Create individual lists\n",
    "stock_date  = [elem[0] for elem in dataset if elem[0] != None]\n",
    "stock_open  = [elem[1] for elem in dataset if elem[1] != None]\n",
    "stock_high  = [elem[2] for elem in dataset if elem[2] != None]\n",
    "stock_low   = [elem[3] for elem in dataset if elem[3] != None]\n",
    "stock_close = [elem[4] for elem in dataset if elem[4] != None]\n",
    "stock_vol   = [elem[6] for elem in dataset if elem[6] != None]\n",
    "stock_turn  = [elem[7] for elem in dataset if elem[7] != None]"
   ]
  },
  {
   "cell_type": "code",
   "execution_count": 14,
   "metadata": {
    "ExecuteTime": {
     "end_time": "2020-06-10T06:47:13.037229Z",
     "start_time": "2020-06-10T06:47:13.034278Z"
    }
   },
   "outputs": [],
   "source": [
    "def get_max_val(array):\n",
    "    \n",
    "    '''\n",
    "    Returns a maximum value of a list\n",
    "\n",
    "    Parameters:\n",
    "    array (int or float): Array containing either floats or integers\n",
    "    \n",
    "\n",
    "    Returns:\n",
    "    \n",
    "    max_val: The maximum value\n",
    "\n",
    "    '''\n",
    "    \n",
    "    # Guess a number \n",
    "    max_val = array[0]\n",
    "    \n",
    "    for num in array:\n",
    "        if num > max_val:\n",
    "            max_val = num\n",
    "            \n",
    "    return max_val"
   ]
  },
  {
   "cell_type": "code",
   "execution_count": 15,
   "metadata": {
    "ExecuteTime": {
     "end_time": "2020-06-10T06:47:13.042041Z",
     "start_time": "2020-06-10T06:47:13.039193Z"
    }
   },
   "outputs": [],
   "source": [
    "def get_min_val(array):\n",
    "    \n",
    "    '''\n",
    "    Returns a minimum value of a list\n",
    "\n",
    "    Parameters:\n",
    "    array (int or float): Array containing either floats or integers\n",
    "    \n",
    "\n",
    "    Returns:\n",
    "    \n",
    "    min_val: The minimum value\n",
    "\n",
    "    '''\n",
    "    \n",
    "    # Guess a number \n",
    "    min_val = array[0]\n",
    "    \n",
    "    for num in array:\n",
    "        if num < min_val:\n",
    "            min_val = num\n",
    "            \n",
    "    return min_val"
   ]
  },
  {
   "cell_type": "code",
   "execution_count": 39,
   "metadata": {
    "ExecuteTime": {
     "end_time": "2020-06-10T06:56:05.476782Z",
     "start_time": "2020-06-10T06:56:05.473488Z"
    }
   },
   "outputs": [
    {
     "name": "stdout",
     "output_type": "stream",
     "text": [
      "The lowest  Opening Price: $34.00\n",
      "The highest Opening Price: $53.11\n"
     ]
    }
   ],
   "source": [
    "min_open = get_min_val(stock_open)\n",
    "max_open = get_max_val(stock_open)\n",
    "\n",
    "print('3a. The lowest  Opening Price: ${:0.2f}'.format(min_open))\n",
    "print('3b. The highest Opening Price: ${:0.2f}'.format(max_open))"
   ]
  },
  {
   "cell_type": "markdown",
   "metadata": {},
   "source": [
    "### What was the largest change in any one day (based on High and Low price)?"
   ]
  },
  {
   "cell_type": "code",
   "execution_count": 17,
   "metadata": {
    "ExecuteTime": {
     "end_time": "2020-06-10T06:47:13.051290Z",
     "start_time": "2020-06-10T06:47:13.048526Z"
    }
   },
   "outputs": [],
   "source": [
    "def largest_change_one_day(s_low,s_high):\n",
    "    \n",
    "    '''\n",
    "    Returns a maximum change in one day\n",
    "\n",
    "    Parameters:\n",
    "    s_low (int or float) : Array containing lows of the day\n",
    "    s_high (int or float): Array containing highs of the day\n",
    "\n",
    "    Returns:\n",
    "    \n",
    "    max_delta: The maximum change in the day\n",
    "\n",
    "    '''\n",
    "    \n",
    "    delta = [high-low for low,high in zip(s_low,s_high)]\n",
    "    \n",
    "    max_delta = get_max_val(delta)\n",
    "            \n",
    "    return max_delta"
   ]
  },
  {
   "cell_type": "code",
   "execution_count": 18,
   "metadata": {
    "ExecuteTime": {
     "end_time": "2020-06-10T06:47:13.055358Z",
     "start_time": "2020-06-10T06:47:13.052845Z"
    }
   },
   "outputs": [],
   "source": [
    "max_change = largest_change_one_day(stock_low,stock_high)"
   ]
  },
  {
   "cell_type": "code",
   "execution_count": 19,
   "metadata": {
    "ExecuteTime": {
     "end_time": "2020-06-10T06:47:13.059889Z",
     "start_time": "2020-06-10T06:47:13.057055Z"
    }
   },
   "outputs": [
    {
     "name": "stdout",
     "output_type": "stream",
     "text": [
      "The largest change in one day : $2.81\n"
     ]
    }
   ],
   "source": [
    "print('4. The largest change in one day : ${:0.2f}'.format(max_change))"
   ]
  },
  {
   "cell_type": "markdown",
   "metadata": {},
   "source": [
    "### What was the largest change between any two days (based on Closing Price)?"
   ]
  },
  {
   "cell_type": "code",
   "execution_count": 31,
   "metadata": {
    "ExecuteTime": {
     "end_time": "2020-06-10T06:53:12.424796Z",
     "start_time": "2020-06-10T06:53:12.421828Z"
    }
   },
   "outputs": [],
   "source": [
    "def largest_delta_two_days_close(s_close):\n",
    "    \n",
    "    '''\n",
    "    Returns the largest change between two days\n",
    "\n",
    "    Parameters:\n",
    "    s_close (int or float) : Array containing closing price of the day\n",
    "\n",
    "\n",
    "    Returns:\n",
    "    \n",
    "    max_delta_2days: The maximum change between two days\n",
    "\n",
    "    '''\n",
    "    \n",
    "    delta_2d = [abs(s_close[i+1] - s_close[i]) for i in range(len(s_close)-1)]\n",
    "        \n",
    "    max_delta_2days = get_max_val(delta_2d)\n",
    "    \n",
    "    return max_delta_2days\n",
    "    "
   ]
  },
  {
   "cell_type": "code",
   "execution_count": 32,
   "metadata": {
    "ExecuteTime": {
     "end_time": "2020-06-10T06:53:12.695698Z",
     "start_time": "2020-06-10T06:53:12.693208Z"
    }
   },
   "outputs": [],
   "source": [
    "max_change_two_days = largest_delta_two_days_close(stock_close)"
   ]
  },
  {
   "cell_type": "code",
   "execution_count": 36,
   "metadata": {
    "ExecuteTime": {
     "end_time": "2020-06-10T06:55:41.594594Z",
     "start_time": "2020-06-10T06:55:41.591901Z"
    }
   },
   "outputs": [
    {
     "name": "stdout",
     "output_type": "stream",
     "text": [
      "The largest change in any two days (based on close price): $2.56\n"
     ]
    }
   ],
   "source": [
    "print('5. The largest change in any two days (based on close price): ${:0.2f}'.format(max_change_two_days))"
   ]
  },
  {
   "cell_type": "markdown",
   "metadata": {},
   "source": [
    "### What was the average daily trading volume during this year?"
   ]
  },
  {
   "cell_type": "code",
   "execution_count": 41,
   "metadata": {
    "ExecuteTime": {
     "end_time": "2020-06-10T06:59:54.724842Z",
     "start_time": "2020-06-10T06:59:54.721727Z"
    }
   },
   "outputs": [],
   "source": [
    "def avg_daily_vol(s_vol):\n",
    "    \n",
    "    '''\n",
    "    Returns the average daily volume\n",
    "\n",
    "    Parameters:\n",
    "    s_vol (int or float) : Array containing volume traded in the day\n",
    "\n",
    "\n",
    "    Returns:\n",
    "    \n",
    "    avg_vol: The average volume\n",
    "\n",
    "    '''    \n",
    "    \n",
    "    total_vol = 0\n",
    "    \n",
    "    for vol in s_vol:\n",
    "        total_vol = total_vol + vol\n",
    "        \n",
    "    avg_vol = total_vol/len(s_vol)\n",
    "        \n",
    "    return(avg_vol)\n"
   ]
  },
  {
   "cell_type": "code",
   "execution_count": 42,
   "metadata": {
    "ExecuteTime": {
     "end_time": "2020-06-10T06:59:55.037195Z",
     "start_time": "2020-06-10T06:59:55.035344Z"
    }
   },
   "outputs": [],
   "source": [
    "avg_daily_vol_2017 = avg_daily_vol(stock_vol)"
   ]
  },
  {
   "cell_type": "code",
   "execution_count": 46,
   "metadata": {
    "ExecuteTime": {
     "end_time": "2020-06-10T07:02:08.049390Z",
     "start_time": "2020-06-10T07:02:08.046888Z"
    }
   },
   "outputs": [
    {
     "name": "stdout",
     "output_type": "stream",
     "text": [
      "6. Average daily trading volume during this year: 89,124.34 units\n"
     ]
    }
   ],
   "source": [
    "print('6. Average daily trading volume during this year: {:0,.2f} units'.format(avg_daily_vol_2017))"
   ]
  },
  {
   "cell_type": "markdown",
   "metadata": {},
   "source": [
    "### (Optional) What was the median trading volume during this year. (Note: you may need to implement your own function for calculating the median.)"
   ]
  },
  {
   "cell_type": "code",
   "execution_count": 53,
   "metadata": {
    "ExecuteTime": {
     "end_time": "2020-06-10T07:13:49.723255Z",
     "start_time": "2020-06-10T07:13:49.720227Z"
    }
   },
   "outputs": [],
   "source": [
    "def get_median(array):\n",
    "    \n",
    "    '''\n",
    "    Returns the median of an array\n",
    "\n",
    "    Parameters:\n",
    "    array (int or float) : Array\n",
    "\n",
    "\n",
    "    Returns:\n",
    "    \n",
    "    median: The median of the array\n",
    "\n",
    "    '''\n",
    "    \n",
    "    array.sort()\n",
    "    \n",
    "    med_index = len(array) // 2\n",
    "    \n",
    "    median = (array[med_index] + array[~med_index])/2\n",
    "    \n",
    "    return (median)"
   ]
  },
  {
   "cell_type": "code",
   "execution_count": 54,
   "metadata": {
    "ExecuteTime": {
     "end_time": "2020-06-10T07:13:49.995037Z",
     "start_time": "2020-06-10T07:13:49.992543Z"
    }
   },
   "outputs": [
    {
     "name": "stdout",
     "output_type": "stream",
     "text": [
      "6. Median trading volume during this year: 76,286.00 units\n"
     ]
    }
   ],
   "source": [
    "median_volume_2017 = get_median(stock_vol)\n",
    "\n",
    "\n",
    "print('6. Median trading volume during this year: {:0,.2f} units'.format(median_volume_2017))"
   ]
  },
  {
   "cell_type": "code",
   "execution_count": null,
   "metadata": {
    "ExecuteTime": {
     "end_time": "2020-06-10T07:11:37.892011Z",
     "start_time": "2020-06-10T07:11:37.889632Z"
    }
   },
   "outputs": [],
   "source": []
  },
  {
   "cell_type": "code",
   "execution_count": null,
   "metadata": {},
   "outputs": [],
   "source": []
  }
 ],
 "metadata": {
  "kernelspec": {
   "display_name": "Python 3",
   "language": "python",
   "name": "python3"
  },
  "language_info": {
   "codemirror_mode": {
    "name": "ipython",
    "version": 3
   },
   "file_extension": ".py",
   "mimetype": "text/x-python",
   "name": "python",
   "nbconvert_exporter": "python",
   "pygments_lexer": "ipython3",
   "version": "3.7.3"
  },
  "latex_envs": {
   "LaTeX_envs_menu_present": true,
   "autoclose": false,
   "autocomplete": true,
   "bibliofile": "biblio.bib",
   "cite_by": "apalike",
   "current_citInitial": 1,
   "eqLabelWithNumbers": true,
   "eqNumInitial": 1,
   "hotkeys": {
    "equation": "Ctrl-E",
    "itemize": "Ctrl-I"
   },
   "labels_anchors": false,
   "latex_user_defs": false,
   "report_style_numbering": false,
   "user_envs_cfg": false
  },
  "toc": {
   "base_numbering": 1,
   "nav_menu": {},
   "number_sections": true,
   "sideBar": true,
   "skip_h1_title": false,
   "title_cell": "Table of Contents",
   "title_sidebar": "Contents",
   "toc_cell": false,
   "toc_position": {},
   "toc_section_display": true,
   "toc_window_display": false
  }
 },
 "nbformat": 4,
 "nbformat_minor": 2
}
